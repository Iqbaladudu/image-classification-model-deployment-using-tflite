{
  "cells": [
    {
      "cell_type": "code",
      "execution_count": 2,
      "metadata": {
        "colab": {
          "base_uri": "https://localhost:8080/"
        },
        "id": "_kz_fbeuUKz6",
        "outputId": "1af1d6b5-94ce-4105-d7f4-3cd2e8e60677"
      },
      "outputs": [
        {
          "output_type": "stream",
          "name": "stdout",
          "text": [
            "Looking in indexes: https://pypi.org/simple, https://us-python.pkg.dev/colab-wheels/public/simple/\n",
            "Requirement already satisfied: kaggle in /usr/local/lib/python3.7/dist-packages (1.5.12)\n",
            "Requirement already satisfied: six>=1.10 in /usr/local/lib/python3.7/dist-packages (from kaggle) (1.15.0)\n",
            "Requirement already satisfied: certifi in /usr/local/lib/python3.7/dist-packages (from kaggle) (2022.9.24)\n",
            "Requirement already satisfied: requests in /usr/local/lib/python3.7/dist-packages (from kaggle) (2.23.0)\n",
            "Requirement already satisfied: urllib3 in /usr/local/lib/python3.7/dist-packages (from kaggle) (1.24.3)\n",
            "Requirement already satisfied: python-dateutil in /usr/local/lib/python3.7/dist-packages (from kaggle) (2.8.2)\n",
            "Requirement already satisfied: tqdm in /usr/local/lib/python3.7/dist-packages (from kaggle) (4.64.1)\n",
            "Requirement already satisfied: python-slugify in /usr/local/lib/python3.7/dist-packages (from kaggle) (6.1.2)\n",
            "Requirement already satisfied: text-unidecode>=1.3 in /usr/local/lib/python3.7/dist-packages (from python-slugify->kaggle) (1.3)\n",
            "Requirement already satisfied: chardet<4,>=3.0.2 in /usr/local/lib/python3.7/dist-packages (from requests->kaggle) (3.0.4)\n",
            "Requirement already satisfied: idna<3,>=2.5 in /usr/local/lib/python3.7/dist-packages (from requests->kaggle) (2.10)\n"
          ]
        }
      ],
      "source": [
        "# Install Kaggle\n",
        "! pip install kaggle"
      ]
    },
    {
      "cell_type": "code",
      "execution_count": 3,
      "metadata": {
        "colab": {
          "base_uri": "https://localhost:8080/"
        },
        "id": "yIOBjdcmUWRq",
        "outputId": "933c5289-0c43-41ed-de75-2b7b3da36efe"
      },
      "outputs": [
        {
          "output_type": "stream",
          "name": "stdout",
          "text": [
            "Mounted at /content/gdrive\n"
          ]
        }
      ],
      "source": [
        "# Mount ke Google Drive\n",
        "from google.colab import drive\n",
        "drive.mount('/content/gdrive')"
      ]
    },
    {
      "cell_type": "code",
      "execution_count": 4,
      "metadata": {
        "id": "U9RXWLhxUbMj"
      },
      "outputs": [],
      "source": [
        "# Setup folder\n",
        "import os\n",
        "os.environ['KAGGLE_CONFIG_DIR'] = \"/content/gdrive/My Drive/Kaggle\""
      ]
    },
    {
      "cell_type": "code",
      "execution_count": 5,
      "metadata": {
        "colab": {
          "base_uri": "https://localhost:8080/"
        },
        "id": "BjpOG5zCUhUe",
        "outputId": "60f19fa6-fab1-41cb-e085-8408b9bf4625"
      },
      "outputs": [
        {
          "output_type": "stream",
          "name": "stdout",
          "text": [
            "Downloading satellite-image-classification.zip to /content\n",
            " 41% 9.00M/21.8M [00:00<00:00, 16.4MB/s]\n",
            "100% 21.8M/21.8M [00:00<00:00, 33.9MB/s]\n"
          ]
        }
      ],
      "source": [
        "!kaggle datasets download -d mahmoudreda55/satellite-image-classification"
      ]
    },
    {
      "cell_type": "code",
      "source": [
        "os.mkdir(\"satelliteimage\")"
      ],
      "metadata": {
        "id": "kUGkOqg0R9xR"
      },
      "execution_count": 6,
      "outputs": []
    },
    {
      "cell_type": "code",
      "source": [
        "import shutil"
      ],
      "metadata": {
        "id": "R7sMPf-3STUc"
      },
      "execution_count": 7,
      "outputs": []
    },
    {
      "cell_type": "code",
      "execution_count": 8,
      "metadata": {
        "id": "Wl8jjhjkUk6B"
      },
      "outputs": [],
      "source": [
        "# Unzip dataset\n",
        "shutil.unpack_archive(\"satellite-image-classification.zip\", \"/content/satelliteimage\")"
      ]
    },
    {
      "cell_type": "code",
      "execution_count": 9,
      "metadata": {
        "id": "vl3NaFblUvDL"
      },
      "outputs": [],
      "source": [
        "import pandas as pd\n",
        "import numpy as np\n",
        "import matplotlib.pyplot as plt\n",
        "from matplotlib.pyplot import figure"
      ]
    },
    {
      "cell_type": "code",
      "execution_count": 10,
      "metadata": {
        "id": "EjsHqRa5VGtB"
      },
      "outputs": [],
      "source": [
        "dir = \"/content/satelliteimage/data\""
      ]
    },
    {
      "cell_type": "code",
      "execution_count": 11,
      "metadata": {
        "id": "jIUmiTNlXhWo"
      },
      "outputs": [],
      "source": [
        "from tensorflow.keras.preprocessing.image import ImageDataGenerator"
      ]
    },
    {
      "cell_type": "code",
      "execution_count": 12,
      "metadata": {
        "id": "wcXEzBypV8ny"
      },
      "outputs": [],
      "source": [
        "# Preprocessing\n",
        "train_datagen = ImageDataGenerator(\n",
        "    rescale=1./255,\n",
        "    rotation_range=20,\n",
        "    horizontal_flip=True,\n",
        "    shear_range=0.2,\n",
        "    fill_mode='nearest',\n",
        "    validation_split=0.20\n",
        ")"
      ]
    },
    {
      "cell_type": "code",
      "execution_count": 13,
      "metadata": {
        "id": "OhVqdyiPX4Tf"
      },
      "outputs": [],
      "source": [
        "test_datagen = ImageDataGenerator(rescale=1./255, validation_split=0.20)"
      ]
    },
    {
      "cell_type": "code",
      "execution_count": 14,
      "metadata": {
        "colab": {
          "base_uri": "https://localhost:8080/"
        },
        "id": "c1MvaEwba1x-",
        "outputId": "daa44459-74b1-43c7-dd63-f712d852cf5a"
      },
      "outputs": [
        {
          "output_type": "stream",
          "name": "stdout",
          "text": [
            "Found 4505 images belonging to 4 classes.\n"
          ]
        }
      ],
      "source": [
        "train_generator = train_datagen.flow_from_directory(\n",
        "    dir,\n",
        "    target_size=(150, 150),\n",
        "    batch_size=4,\n",
        "    class_mode=\"categorical\", # default\n",
        "    subset=\"training\"\n",
        ")"
      ]
    },
    {
      "cell_type": "code",
      "execution_count": 15,
      "metadata": {
        "colab": {
          "base_uri": "https://localhost:8080/"
        },
        "id": "-d7Gz0YgX-oz",
        "outputId": "bb195965-08bb-4fde-bc0d-cf2cb8a4b608"
      },
      "outputs": [
        {
          "output_type": "stream",
          "name": "stdout",
          "text": [
            "Found 1126 images belonging to 4 classes.\n"
          ]
        }
      ],
      "source": [
        "validation_generator = test_datagen.flow_from_directory(\n",
        "    dir,\n",
        "    target_size=(150, 150),\n",
        "    batch_size=4,\n",
        "    class_mode=\"categorical\", # default\n",
        "    subset=\"validation\"\n",
        ")"
      ]
    },
    {
      "cell_type": "code",
      "execution_count": 16,
      "metadata": {
        "colab": {
          "base_uri": "https://localhost:8080/"
        },
        "id": "gg_LODZadR55",
        "outputId": "e1a72fb8-80ef-40c9-c329-55f830391ad2"
      },
      "outputs": [
        {
          "output_type": "execute_result",
          "data": {
            "text/plain": [
              "4"
            ]
          },
          "metadata": {},
          "execution_count": 16
        }
      ],
      "source": [
        "classes = len(os.listdir(dir))\n",
        "classes"
      ]
    },
    {
      "cell_type": "code",
      "source": [
        "from tensorflow.keras.applications import ResNet50\n",
        "from tensorflow.keras.applications import ResNet152V2\n",
        "from tensorflow.keras.layers import Input\n",
        "import tensorflow as tf"
      ],
      "metadata": {
        "id": "DfaLM_NXhpGS"
      },
      "execution_count": 89,
      "outputs": []
    },
    {
      "cell_type": "code",
      "execution_count": 102,
      "metadata": {
        "id": "MI4tKlKDYMJP"
      },
      "outputs": [],
      "source": [
        "model = tf.keras.models.Sequential([\n",
        "    tf.keras.Input(shape=(150, 150, 3)),\n",
        "    ResNet152V2(weights=\"imagenet\", include_top=False, input_tensor=Input(shape=(150, 150, 3))),\n",
        "    tf.keras.layers.Conv2D(16, (3, 3), activation='relu'),\n",
        "    tf.keras.layers.MaxPooling2D(2, 2),\n",
        "    tf.keras.layers.Dense(512, activation=\"relu\"),\n",
        "    tf.keras.layers.Dropout(0.2),\n",
        "    tf.keras.layers.Dense(512, activation=\"relu\"),\n",
        "    tf.keras.layers.Dropout(0.2),\n",
        "    tf.keras.layers.Dense(512, activation=\"relu\"),\n",
        "    tf.keras.layers.Dense(512, activation=\"relu\"),\n",
        "    tf.keras.layers.Dense(512, activation=\"relu\"),\n",
        "    tf.keras.layers.Dense(128, activation=\"relu\"),\n",
        "    tf.keras.layers.Dense(128, activation=\"relu\"),\n",
        "    tf.keras.layers.Dense(128, activation=\"relu\"),\n",
        "    tf.keras.layers.Flatten(),\n",
        "    tf.keras.layers.Dense(classes, activation='softmax')\n",
        "])"
      ]
    },
    {
      "cell_type": "code",
      "source": [
        "model.layers[0].trainable = False"
      ],
      "metadata": {
        "id": "v6b1t7WLjThV"
      },
      "execution_count": 103,
      "outputs": []
    },
    {
      "cell_type": "code",
      "execution_count": 104,
      "metadata": {
        "colab": {
          "base_uri": "https://localhost:8080/"
        },
        "id": "PJXRbacqbJ7m",
        "outputId": "8eaa27d3-e9bc-41e8-db82-f38deb717726"
      },
      "outputs": [
        {
          "output_type": "stream",
          "name": "stdout",
          "text": [
            "Model: \"sequential_22\"\n",
            "_________________________________________________________________\n",
            " Layer (type)                Output Shape              Param #   \n",
            "=================================================================\n",
            " resnet152v2 (Functional)    (None, 5, 5, 2048)        58331648  \n",
            "                                                                 \n",
            " conv2d_91 (Conv2D)          (None, 3, 3, 16)          294928    \n",
            "                                                                 \n",
            " max_pooling2d_124 (MaxPooli  (None, 1, 1, 16)         0         \n",
            " ng2D)                                                           \n",
            "                                                                 \n",
            " dense_138 (Dense)           (None, 1, 1, 512)         8704      \n",
            "                                                                 \n",
            " dropout_106 (Dropout)       (None, 1, 1, 512)         0         \n",
            "                                                                 \n",
            " dense_139 (Dense)           (None, 1, 1, 512)         262656    \n",
            "                                                                 \n",
            " dropout_107 (Dropout)       (None, 1, 1, 512)         0         \n",
            "                                                                 \n",
            " dense_140 (Dense)           (None, 1, 1, 512)         262656    \n",
            "                                                                 \n",
            " dense_141 (Dense)           (None, 1, 1, 512)         262656    \n",
            "                                                                 \n",
            " dense_142 (Dense)           (None, 1, 1, 512)         262656    \n",
            "                                                                 \n",
            " dense_143 (Dense)           (None, 1, 1, 128)         65664     \n",
            "                                                                 \n",
            " dense_144 (Dense)           (None, 1, 1, 128)         16512     \n",
            "                                                                 \n",
            " dense_145 (Dense)           (None, 1, 1, 128)         16512     \n",
            "                                                                 \n",
            " flatten_20 (Flatten)        (None, 128)               0         \n",
            "                                                                 \n",
            " dense_146 (Dense)           (None, 4)                 516       \n",
            "                                                                 \n",
            "=================================================================\n",
            "Total params: 59,785,108\n",
            "Trainable params: 1,453,460\n",
            "Non-trainable params: 58,331,648\n",
            "_________________________________________________________________\n"
          ]
        }
      ],
      "source": [
        "model.summary()"
      ]
    },
    {
      "cell_type": "code",
      "execution_count": 105,
      "metadata": {
        "id": "o83TmAMCbMY-"
      },
      "outputs": [],
      "source": [
        "# compile model dengan 'adam' optimizer loss function 'categorical_crossentropy' \n",
        "model.compile(loss='categorical_crossentropy',\n",
        "              optimizer=tf.optimizers.Adam(),\n",
        "              metrics=['accuracy'])"
      ]
    },
    {
      "cell_type": "code",
      "source": [
        "class myCallback(tf.keras.callbacks.Callback):\n",
        "  def on_epoch_end(self, epoch, logs={}):\n",
        "    if logs.get('accuracy')>0.92 and logs.get('val_accuracy') >0.92:\n",
        "      print(\"\\nAkurasi telah mencapai >92%!\")\n",
        "      self.model.stop_training = True\n",
        "callbacks = myCallback()"
      ],
      "metadata": {
        "id": "Zzyv7Rdmlstq"
      },
      "execution_count": 106,
      "outputs": []
    },
    {
      "cell_type": "code",
      "execution_count": 107,
      "metadata": {
        "colab": {
          "base_uri": "https://localhost:8080/"
        },
        "id": "Gv6UVoy0bfcB",
        "outputId": "b2dba2b6-67c9-4c99-dcf9-a6e027a2f354"
      },
      "outputs": [
        {
          "output_type": "stream",
          "name": "stdout",
          "text": [
            "Epoch 1/30\n",
            "100/100 - 17s - loss: 1.0827 - accuracy: 0.4650 - val_loss: 0.9975 - val_accuracy: 0.6000 - 17s/epoch - 168ms/step\n",
            "Epoch 2/30\n",
            "100/100 - 4s - loss: 0.9482 - accuracy: 0.6350 - val_loss: 0.3832 - val_accuracy: 0.7500 - 4s/epoch - 41ms/step\n",
            "Epoch 3/30\n",
            "100/100 - 4s - loss: 0.6175 - accuracy: 0.7053 - val_loss: 0.7631 - val_accuracy: 0.7000 - 4s/epoch - 41ms/step\n",
            "Epoch 4/30\n",
            "100/100 - 4s - loss: 0.6308 - accuracy: 0.7150 - val_loss: 0.5523 - val_accuracy: 0.6500 - 4s/epoch - 40ms/step\n",
            "Epoch 5/30\n",
            "100/100 - 5s - loss: 0.6518 - accuracy: 0.7575 - val_loss: 0.2348 - val_accuracy: 0.8500 - 5s/epoch - 50ms/step\n",
            "Epoch 6/30\n",
            "100/100 - 4s - loss: 0.4936 - accuracy: 0.7632 - val_loss: 0.5120 - val_accuracy: 0.8500 - 4s/epoch - 40ms/step\n",
            "Epoch 7/30\n",
            "100/100 - 4s - loss: 0.5424 - accuracy: 0.8475 - val_loss: 0.1499 - val_accuracy: 0.9000 - 4s/epoch - 40ms/step\n",
            "Epoch 8/30\n",
            "100/100 - 4s - loss: 0.3204 - accuracy: 0.9025 - val_loss: 1.5197 - val_accuracy: 0.7500 - 4s/epoch - 40ms/step\n",
            "Epoch 9/30\n",
            "100/100 - 4s - loss: 0.3575 - accuracy: 0.8850 - val_loss: 0.1577 - val_accuracy: 0.9500 - 4s/epoch - 40ms/step\n",
            "Epoch 10/30\n",
            "\n",
            "Akurasi telah mencapai >92%!\n",
            "100/100 - 5s - loss: 0.2977 - accuracy: 0.9400 - val_loss: 0.0824 - val_accuracy: 1.0000 - 5s/epoch - 50ms/step\n"
          ]
        }
      ],
      "source": [
        "# latih model dengan model.fit \n",
        "history = model.fit(\n",
        "      train_generator,\n",
        "      steps_per_epoch=100,\n",
        "      epochs=30,\n",
        "      validation_data=validation_generator,\n",
        "      validation_steps=5,\n",
        "      callbacks=[callbacks],\n",
        "      verbose=2)"
      ]
    },
    {
      "cell_type": "code",
      "source": [
        "# Evaluasi Hasil\n",
        "\n",
        "# Accuracy dan validation\n",
        "acc = history.history['accuracy']\n",
        "val_acc = history.history['val_accuracy']\n",
        "\n",
        "# Loss dan validation\n",
        "loss = history.history['loss']\n",
        "val_loss = history.history['val_loss']\n",
        "\n",
        "epochs = range(len(acc))\n",
        "\n",
        "# Accuracy & validation plot\n",
        "plt.plot(epochs, acc, label=\"accuracy\")\n",
        "plt.plot(epochs, val_acc, label=\"validation accuracy\")\n",
        "plt.title('Akurasi Training dan Validation')\n",
        "plt.legend(loc=\"upper left\")\n",
        "\n",
        "# Loss & validation plot\n",
        "plt.plot(epochs, loss, label=\"loss\")\n",
        "plt.plot(epochs, val_loss, label=\"validation loss\")\n",
        "plt.legend(loc=\"upper left\")\n",
        "plt.title('Loss training dan validation')"
      ],
      "metadata": {
        "colab": {
          "base_uri": "https://localhost:8080/",
          "height": 298
        },
        "id": "XadaMCUvnqTA",
        "outputId": "1fba012b-912b-4a0e-a67b-6ddd69af12dc"
      },
      "execution_count": 108,
      "outputs": [
        {
          "output_type": "execute_result",
          "data": {
            "text/plain": [
              "Text(0.5, 1.0, 'Loss training dan validation')"
            ]
          },
          "metadata": {},
          "execution_count": 108
        },
        {
          "output_type": "display_data",
          "data": {
            "text/plain": [
              "<Figure size 432x288 with 1 Axes>"
            ],
            "image/png": "[encoded data removed]"
          },
          "metadata": {
            "needs_background": "light"
          }
        }
      ]
    },
    {
      "cell_type": "code",
      "source": [
        "import pathlib"
      ],
      "metadata": {
        "id": "zmqZ3Sq9pRoR"
      },
      "execution_count": 109,
      "outputs": []
    },
    {
      "cell_type": "code",
      "source": [
        "# Menyimpan model dalam format SavedModel\n",
        "export_dir = 'saved_model/'\n",
        "tf.saved_model.save(model, export_dir)"
      ],
      "metadata": {
        "id": "7BVL65GpnrJz"
      },
      "execution_count": 110,
      "outputs": []
    },
    {
      "cell_type": "code",
      "source": [
        "# Convert SavedModel menjadi satelliteimageclassification.tflite\n",
        "converter = tf.lite.TFLiteConverter.from_saved_model(export_dir)\n",
        "tflite_model = converter.convert()"
      ],
      "metadata": {
        "id": "H4IbDS7IohCQ"
      },
      "execution_count": 35,
      "outputs": []
    },
    {
      "cell_type": "code",
      "source": [
        "tflite_model_file = pathlib.Path('satelliteimage.tflite')\n",
        "tflite_model_file.write_bytes(tflite_model)"
      ],
      "metadata": {
        "colab": {
          "base_uri": "https://localhost:8080/"
        },
        "id": "5Cy2AugCo0Bb",
        "outputId": "00ca244e-4bda-472e-f201-a01e4eeacac3"
      },
      "execution_count": 111,
      "outputs": [
        {
          "output_type": "execute_result",
          "data": {
            "text/plain": [
              "338200108"
            ]
          },
          "metadata": {},
          "execution_count": 111
        }
      ]
    }
  ],
  "metadata": {
    "colab": {
      "provenance": [],
      "collapsed_sections": []
    },
    "kernelspec": {
      "display_name": "Python 3",
      "name": "python3"
    },
    "language_info": {
      "name": "python"
    },
    "accelerator": "GPU"
  },
  "nbformat": 4,
  "nbformat_minor": 0
}